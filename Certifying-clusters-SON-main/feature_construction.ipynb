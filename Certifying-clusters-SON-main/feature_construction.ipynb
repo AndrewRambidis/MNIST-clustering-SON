{
 "cells": [
  {
   "cell_type": "markdown",
   "id": "75acef2b",
   "metadata": {},
   "source": [
    "## Imports"
   ]
  },
  {
   "cell_type": "code",
   "execution_count": 1,
   "id": "72328fec",
   "metadata": {},
   "outputs": [],
   "source": [
    "include(\"einsum3.jl\")\n",
    "include(\"./data_generation.jl\")\n",
    "include(\"./model.jl\")\n",
    "\n",
    "using MLDatasets\n",
    "using Images\n",
    "using StatsBase\n",
    "\n",
    "import .ClusterTests\n",
    "import .DataGeneration"
   ]
  },
  {
   "cell_type": "markdown",
   "id": "812ce70e",
   "metadata": {},
   "source": [
    "## Load data in"
   ]
  },
  {
   "cell_type": "code",
   "execution_count": 2,
   "id": "2fad8d26",
   "metadata": {},
   "outputs": [],
   "source": [
    "train_x, train_y = MLDatasets.MNIST.traindata();\n",
    "test_x, test_y = MLDatasets.MNIST.testdata();"
   ]
  },
  {
   "cell_type": "code",
   "execution_count": 3,
   "id": "a6f7be9d",
   "metadata": {},
   "outputs": [
    {
     "data": {
      "text/plain": [
       "(28, 28, 60000)"
      ]
     },
     "metadata": {},
     "output_type": "display_data"
    },
    {
     "data": {
      "text/plain": [
       "(28, 28, 10000)"
      ]
     },
     "metadata": {},
     "output_type": "display_data"
    },
    {
     "data": {
      "text/plain": [
       "(60000,)"
      ]
     },
     "metadata": {},
     "output_type": "display_data"
    },
    {
     "data": {
      "text/plain": [
       "(10000,)"
      ]
     },
     "metadata": {},
     "output_type": "display_data"
    }
   ],
   "source": [
    "display(size(train_x))\n",
    "display(size(test_x))\n",
    "display(size(train_y))\n",
    "display(size(test_y))"
   ]
  },
  {
   "cell_type": "markdown",
   "id": "64392442",
   "metadata": {},
   "source": [
    "## Reduce Dataset to facilitate training for SON"
   ]
  },
  {
   "cell_type": "code",
   "execution_count": 4,
   "id": "752b4bcf",
   "metadata": {},
   "outputs": [],
   "source": [
    "## get all numbers which are either 1 or 8\n",
    "# For training set\n",
    "train_x_18 = [train_x[:,:,key] for (key, label) in enumerate(train_y) if label==1 || label==8];\n",
    "train_y_18 = [train_y[key] for (key, label) in enumerate(train_y) if label==1 || label==8];\n",
    "# For test set\n",
    "test_x_18 = [test_x[:,:,key] for (key, label) in enumerate(test_y) if label==1 || label==8];\n",
    "test_y_18 = [test_y[key] for (key, label) in enumerate(test_y) if label==1 || label==8];"
   ]
  },
  {
   "cell_type": "code",
   "execution_count": 5,
   "id": "2cfc499a",
   "metadata": {},
   "outputs": [
    {
     "data": {
      "text/plain": [
       "\"Feature x:\""
      ]
     },
     "metadata": {},
     "output_type": "display_data"
    },
    {
     "data": {
      "image/png": "[encoded data removed]",
      "text/plain": [
       "28×28 Array{Gray{N0f8},2} with eltype Gray{N0f8}:\n",
       " Gray{N0f8}(0.0)  Gray{N0f8}(0.0)  …  Gray{N0f8}(0.0)  Gray{N0f8}(0.0)\n",
       " Gray{N0f8}(0.0)  Gray{N0f8}(0.0)     Gray{N0f8}(0.0)  Gray{N0f8}(0.0)\n",
       " Gray{N0f8}(0.0)  Gray{N0f8}(0.0)     Gray{N0f8}(0.0)  Gray{N0f8}(0.0)\n",
       " Gray{N0f8}(0.0)  Gray{N0f8}(0.0)     Gray{N0f8}(0.0)  Gray{N0f8}(0.0)\n",
       " Gray{N0f8}(0.0)  Gray{N0f8}(0.0)     Gray{N0f8}(0.0)  Gray{N0f8}(0.0)\n",
       " Gray{N0f8}(0.0)  Gray{N0f8}(0.0)  …  Gray{N0f8}(0.0)  Gray{N0f8}(0.0)\n",
       " Gray{N0f8}(0.0)  Gray{N0f8}(0.0)     Gray{N0f8}(0.0)  Gray{N0f8}(0.0)\n",
       " Gray{N0f8}(0.0)  Gray{N0f8}(0.0)     Gray{N0f8}(0.0)  Gray{N0f8}(0.0)\n",
       " Gray{N0f8}(0.0)  Gray{N0f8}(0.0)     Gray{N0f8}(0.0)  Gray{N0f8}(0.0)\n",
       " Gray{N0f8}(0.0)  Gray{N0f8}(0.0)     Gray{N0f8}(0.0)  Gray{N0f8}(0.0)\n",
       " ⋮                                 ⋱                   \n",
       " Gray{N0f8}(0.0)  Gray{N0f8}(0.0)     Gray{N0f8}(0.0)  Gray{N0f8}(0.0)\n",
       " Gray{N0f8}(0.0)  Gray{N0f8}(0.0)  …  Gray{N0f8}(0.0)  Gray{N0f8}(0.0)\n",
       " Gray{N0f8}(0.0)  Gray{N0f8}(0.0)     Gray{N0f8}(0.0)  Gray{N0f8}(0.0)\n",
       " Gray{N0f8}(0.0)  Gray{N0f8}(0.0)     Gray{N0f8}(0.0)  Gray{N0f8}(0.0)\n",
       " Gray{N0f8}(0.0)  Gray{N0f8}(0.0)     Gray{N0f8}(0.0)  Gray{N0f8}(0.0)\n",
       " Gray{N0f8}(0.0)  Gray{N0f8}(0.0)     Gray{N0f8}(0.0)  Gray{N0f8}(0.0)\n",
       " Gray{N0f8}(0.0)  Gray{N0f8}(0.0)  …  Gray{N0f8}(0.0)  Gray{N0f8}(0.0)\n",
       " Gray{N0f8}(0.0)  Gray{N0f8}(0.0)     Gray{N0f8}(0.0)  Gray{N0f8}(0.0)\n",
       " Gray{N0f8}(0.0)  Gray{N0f8}(0.0)     Gray{N0f8}(0.0)  Gray{N0f8}(0.0)"
      ]
     },
     "metadata": {},
     "output_type": "display_data"
    },
    {
     "data": {
      "text/plain": [
       "\"label y: 1\""
      ]
     },
     "metadata": {},
     "output_type": "display_data"
    }
   ],
   "source": [
    "## randomly select total_num points\n",
    "total_num = 100\n",
    "# we'll sample (without replacement) the index values in order to have consistency between features and labels\n",
    "# get last number in range \n",
    "last_num_train = size(train_x_18)[1]\n",
    "last_num_test = size(test_x_18)[1]\n",
    "# perform sampling\n",
    "train_idx_set = StatsBase.sample(1:last_num_train, total_num, replace=false)\n",
    "test_idx_set = StatsBase.sample(1:last_num_test, total_num, replace=false)\n",
    "# extract sampled values (training set)\n",
    "train_x_18 = [train_x_18[idx] for idx in train_idx_set]\n",
    "train_y_18 = [train_y_18[idx] for idx in train_idx_set]\n",
    "# extract sampled values (test set)\n",
    "test_x_18 = [test_x_18[idx] for idx in test_idx_set]\n",
    "test_y_18 = [test_y_18[idx] for idx in test_idx_set]\n",
    "\n",
    "## check to see consistency between feature and label\n",
    "display(\"Feature x:\")\n",
    "display(Images.Gray.(train_x_18[57]))\n",
    "display(\"label y: $(train_y_18[57])\")\n"
   ]
  },
  {
   "cell_type": "code",
   "execution_count": 6,
   "id": "1782f4c8",
   "metadata": {},
   "outputs": [
    {
     "data": {
      "text/plain": [
       "\"Number of 1's in train set: 48\""
      ]
     },
     "metadata": {},
     "output_type": "display_data"
    },
    {
     "data": {
      "text/plain": [
       "\"Number of 8's in train set: 52\""
      ]
     },
     "metadata": {},
     "output_type": "display_data"
    },
    {
     "data": {
      "text/plain": [
       "\"Number of 1's in test set: 60\""
      ]
     },
     "metadata": {},
     "output_type": "display_data"
    },
    {
     "data": {
      "text/plain": [
       "\"Number of 8's in test set: 40\""
      ]
     },
     "metadata": {},
     "output_type": "display_data"
    }
   ],
   "source": [
    "## check number of 1's and 8's to make sure there is not a large bias\n",
    "# number of 1's in train set\n",
    "ones = count(i->(i==1), train_y_18)\n",
    "eights = total_num-ones\n",
    "# number of 1's in test set\n",
    "ones_test = count(i->(i==1), test_y_18)\n",
    "eights_test = total_num - ones_test\n",
    "\n",
    "display(\"Number of 1's in train set: $ones\")\n",
    "display(\"Number of 8's in train set: $eights\")\n",
    "display(\"Number of 1's in test set: $ones_test\")\n",
    "display(\"Number of 8's in test set: $eights_test\")"
   ]
  },
  {
   "cell_type": "markdown",
   "id": "cf2417d4",
   "metadata": {},
   "source": [
    "## Fix numbers to be upright"
   ]
  },
  {
   "cell_type": "markdown",
   "id": "898220b3",
   "metadata": {},
   "source": [
    "Currently the numbers are rotated. For the sake of human readability we will rotate them upright"
   ]
  },
  {
   "cell_type": "code",
   "execution_count": 7,
   "id": "0b3deac8",
   "metadata": {},
   "outputs": [
    {
     "data": {
      "image/png": "[encoded data removed]",
      "text/plain": [
       "28×28 Array{Gray{N0f8},2} with eltype Gray{N0f8}:\n",
       " Gray{N0f8}(0.0)  Gray{N0f8}(0.0)  …  Gray{N0f8}(0.0)  Gray{N0f8}(0.0)\n",
       " Gray{N0f8}(0.0)  Gray{N0f8}(0.0)     Gray{N0f8}(0.0)  Gray{N0f8}(0.0)\n",
       " Gray{N0f8}(0.0)  Gray{N0f8}(0.0)     Gray{N0f8}(0.0)  Gray{N0f8}(0.0)\n",
       " Gray{N0f8}(0.0)  Gray{N0f8}(0.0)     Gray{N0f8}(0.0)  Gray{N0f8}(0.0)\n",
       " Gray{N0f8}(0.0)  Gray{N0f8}(0.0)     Gray{N0f8}(0.0)  Gray{N0f8}(0.0)\n",
       " Gray{N0f8}(0.0)  Gray{N0f8}(0.0)  …  Gray{N0f8}(0.0)  Gray{N0f8}(0.0)\n",
       " Gray{N0f8}(0.0)  Gray{N0f8}(0.0)     Gray{N0f8}(0.0)  Gray{N0f8}(0.0)\n",
       " Gray{N0f8}(0.0)  Gray{N0f8}(0.0)     Gray{N0f8}(0.0)  Gray{N0f8}(0.0)\n",
       " Gray{N0f8}(0.0)  Gray{N0f8}(0.0)     Gray{N0f8}(0.0)  Gray{N0f8}(0.0)\n",
       " Gray{N0f8}(0.0)  Gray{N0f8}(0.0)     Gray{N0f8}(0.0)  Gray{N0f8}(0.0)\n",
       " ⋮                                 ⋱                   \n",
       " Gray{N0f8}(0.0)  Gray{N0f8}(0.0)     Gray{N0f8}(0.0)  Gray{N0f8}(0.0)\n",
       " Gray{N0f8}(0.0)  Gray{N0f8}(0.0)  …  Gray{N0f8}(0.0)  Gray{N0f8}(0.0)\n",
       " Gray{N0f8}(0.0)  Gray{N0f8}(0.0)     Gray{N0f8}(0.0)  Gray{N0f8}(0.0)\n",
       " Gray{N0f8}(0.0)  Gray{N0f8}(0.0)     Gray{N0f8}(0.0)  Gray{N0f8}(0.0)\n",
       " Gray{N0f8}(0.0)  Gray{N0f8}(0.0)     Gray{N0f8}(0.0)  Gray{N0f8}(0.0)\n",
       " Gray{N0f8}(0.0)  Gray{N0f8}(0.0)     Gray{N0f8}(0.0)  Gray{N0f8}(0.0)\n",
       " Gray{N0f8}(0.0)  Gray{N0f8}(0.0)  …  Gray{N0f8}(0.0)  Gray{N0f8}(0.0)\n",
       " Gray{N0f8}(0.0)  Gray{N0f8}(0.0)     Gray{N0f8}(0.0)  Gray{N0f8}(0.0)\n",
       " Gray{N0f8}(0.0)  Gray{N0f8}(0.0)     Gray{N0f8}(0.0)  Gray{N0f8}(0.0)"
      ]
     },
     "metadata": {},
     "output_type": "display_data"
    },
    {
     "data": {
      "text/plain": [
       "1"
      ]
     },
     "metadata": {},
     "output_type": "display_data"
    }
   ],
   "source": [
    "display(Images.Gray.(test_x_18[5]))\n",
    "display(test_y_18[5])"
   ]
  },
  {
   "cell_type": "code",
   "execution_count": 8,
   "id": "e3f4aacd",
   "metadata": {},
   "outputs": [
    {
     "data": {
      "image/png": "[encoded data removed]",
      "text/plain": [
       "28×28 Array{Gray{N0f8},2} with eltype Gray{N0f8}:\n",
       " Gray{N0f8}(0.0)  Gray{N0f8}(0.0)  …  Gray{N0f8}(0.0)  Gray{N0f8}(0.0)\n",
       " Gray{N0f8}(0.0)  Gray{N0f8}(0.0)     Gray{N0f8}(0.0)  Gray{N0f8}(0.0)\n",
       " Gray{N0f8}(0.0)  Gray{N0f8}(0.0)     Gray{N0f8}(0.0)  Gray{N0f8}(0.0)\n",
       " Gray{N0f8}(0.0)  Gray{N0f8}(0.0)     Gray{N0f8}(0.0)  Gray{N0f8}(0.0)\n",
       " Gray{N0f8}(0.0)  Gray{N0f8}(0.0)     Gray{N0f8}(0.0)  Gray{N0f8}(0.0)\n",
       " Gray{N0f8}(0.0)  Gray{N0f8}(0.0)  …  Gray{N0f8}(0.0)  Gray{N0f8}(0.0)\n",
       " Gray{N0f8}(0.0)  Gray{N0f8}(0.0)     Gray{N0f8}(0.0)  Gray{N0f8}(0.0)\n",
       " Gray{N0f8}(0.0)  Gray{N0f8}(0.0)     Gray{N0f8}(0.0)  Gray{N0f8}(0.0)\n",
       " Gray{N0f8}(0.0)  Gray{N0f8}(0.0)     Gray{N0f8}(0.0)  Gray{N0f8}(0.0)\n",
       " Gray{N0f8}(0.0)  Gray{N0f8}(0.0)     Gray{N0f8}(0.0)  Gray{N0f8}(0.0)\n",
       " ⋮                                 ⋱                   \n",
       " Gray{N0f8}(0.0)  Gray{N0f8}(0.0)     Gray{N0f8}(0.0)  Gray{N0f8}(0.0)\n",
       " Gray{N0f8}(0.0)  Gray{N0f8}(0.0)  …  Gray{N0f8}(0.0)  Gray{N0f8}(0.0)\n",
       " Gray{N0f8}(0.0)  Gray{N0f8}(0.0)     Gray{N0f8}(0.0)  Gray{N0f8}(0.0)\n",
       " Gray{N0f8}(0.0)  Gray{N0f8}(0.0)     Gray{N0f8}(0.0)  Gray{N0f8}(0.0)\n",
       " Gray{N0f8}(0.0)  Gray{N0f8}(0.0)     Gray{N0f8}(0.0)  Gray{N0f8}(0.0)\n",
       " Gray{N0f8}(0.0)  Gray{N0f8}(0.0)     Gray{N0f8}(0.0)  Gray{N0f8}(0.0)\n",
       " Gray{N0f8}(0.0)  Gray{N0f8}(0.0)  …  Gray{N0f8}(0.0)  Gray{N0f8}(0.0)\n",
       " Gray{N0f8}(0.0)  Gray{N0f8}(0.0)     Gray{N0f8}(0.0)  Gray{N0f8}(0.0)\n",
       " Gray{N0f8}(0.0)  Gray{N0f8}(0.0)     Gray{N0f8}(0.0)  Gray{N0f8}(0.0)"
      ]
     },
     "metadata": {},
     "output_type": "display_data"
    },
    {
     "data": {
      "text/plain": [
       "1"
      ]
     },
     "metadata": {},
     "output_type": "display_data"
    }
   ],
   "source": [
    "## Lets transpose the images to be upright\n",
    "size_train_x = size(train_x_18)[1]\n",
    "size_test_x = size(test_x_18)[1]\n",
    "# Transpose the features for both train and test sets\n",
    "train_x_18 = [permutedims(train_x_18[i], (2,1)) for i in 1:size_train_x]\n",
    "test_x_18 = [permutedims(test_x_18[i], (2,1)) for i in 1:size_test_x]\n",
    "# Lets check the results\n",
    "display(Images.Gray.(test_x_18[5]))\n",
    "display(test_y_18[5])"
   ]
  },
  {
   "cell_type": "markdown",
   "id": "1b922d30",
   "metadata": {},
   "source": [
    "## Convert images to black and white"
   ]
  },
  {
   "cell_type": "code",
   "execution_count": 9,
   "id": "e82dad55",
   "metadata": {},
   "outputs": [],
   "source": [
    "function black_and_white(nums::Matrix{N0f8}, threshold::Float16)\n",
    "    \"\"\"\n",
    "    Converts grayscale pixel values to either 0 (black) or 1 (white) based on a given threshold.\n",
    "\n",
    "    :param nums      : Matrix{N0f8};    where each ij entry of said matrix is a grayscale pixel value\n",
    "    :param threshold : Float16;         hyperparameter in (0, 1) which is the decision boundary of whether pixel value is white or black\n",
    "    :return          : Matrix{N0f8};    Modified copy of nums where pixel values are adjusted based on \"threshold\"\n",
    "    \"\"\"\n",
    "    # check threshold in (0,1)\n",
    "    if (threshold > 1) || (threshold < 0)\n",
    "        println(\"Please choose a threshold between (0,1). e.g. threshold = 0.5\")\n",
    "        return\n",
    "    end\n",
    "    nums_copy = copy(nums)\n",
    "    # change pixel values based on threshold\n",
    "    nums_copy[nums_copy .> threshold] .= N0f8(1.0)\n",
    "    nums_copy[nums_copy .<= threshold] .= N0f8(0.0)\n",
    "    return nums_copy\n",
    "end;"
   ]
  },
  {
   "cell_type": "code",
   "execution_count": 11,
   "id": "6639b9e2",
   "metadata": {},
   "outputs": [],
   "source": [
    "# Convert\n",
    "train_x_18 = [black_and_white(train_x_18[i], Float16(0.5)) for i in 1:size_train_x]\n",
    "test_x_18 = [black_and_white(test_x_18[i], Float16(0.5)) for i in 1:size_test_x];"
   ]
  },
  {
   "cell_type": "markdown",
   "id": "7e193a79",
   "metadata": {},
   "source": [
    "Before:"
   ]
  },
  {
   "cell_type": "code",
   "execution_count": 10,
   "id": "8561982b",
   "metadata": {},
   "outputs": [
    {
     "data": {
      "image/png": "[encoded data removed]",
      "text/plain": [
       "28×28 Array{Gray{N0f8},2} with eltype Gray{N0f8}:\n",
       " Gray{N0f8}(0.0)  Gray{N0f8}(0.0)  …  Gray{N0f8}(0.0)  Gray{N0f8}(0.0)\n",
       " Gray{N0f8}(0.0)  Gray{N0f8}(0.0)     Gray{N0f8}(0.0)  Gray{N0f8}(0.0)\n",
       " Gray{N0f8}(0.0)  Gray{N0f8}(0.0)     Gray{N0f8}(0.0)  Gray{N0f8}(0.0)\n",
       " Gray{N0f8}(0.0)  Gray{N0f8}(0.0)     Gray{N0f8}(0.0)  Gray{N0f8}(0.0)\n",
       " Gray{N0f8}(0.0)  Gray{N0f8}(0.0)     Gray{N0f8}(0.0)  Gray{N0f8}(0.0)\n",
       " Gray{N0f8}(0.0)  Gray{N0f8}(0.0)  …  Gray{N0f8}(0.0)  Gray{N0f8}(0.0)\n",
       " Gray{N0f8}(0.0)  Gray{N0f8}(0.0)     Gray{N0f8}(0.0)  Gray{N0f8}(0.0)\n",
       " Gray{N0f8}(0.0)  Gray{N0f8}(0.0)     Gray{N0f8}(0.0)  Gray{N0f8}(0.0)\n",
       " Gray{N0f8}(0.0)  Gray{N0f8}(0.0)     Gray{N0f8}(0.0)  Gray{N0f8}(0.0)\n",
       " Gray{N0f8}(0.0)  Gray{N0f8}(0.0)     Gray{N0f8}(0.0)  Gray{N0f8}(0.0)\n",
       " ⋮                                 ⋱                   \n",
       " Gray{N0f8}(0.0)  Gray{N0f8}(0.0)     Gray{N0f8}(0.0)  Gray{N0f8}(0.0)\n",
       " Gray{N0f8}(0.0)  Gray{N0f8}(0.0)  …  Gray{N0f8}(0.0)  Gray{N0f8}(0.0)\n",
       " Gray{N0f8}(0.0)  Gray{N0f8}(0.0)     Gray{N0f8}(0.0)  Gray{N0f8}(0.0)\n",
       " Gray{N0f8}(0.0)  Gray{N0f8}(0.0)     Gray{N0f8}(0.0)  Gray{N0f8}(0.0)\n",
       " Gray{N0f8}(0.0)  Gray{N0f8}(0.0)     Gray{N0f8}(0.0)  Gray{N0f8}(0.0)\n",
       " Gray{N0f8}(0.0)  Gray{N0f8}(0.0)     Gray{N0f8}(0.0)  Gray{N0f8}(0.0)\n",
       " Gray{N0f8}(0.0)  Gray{N0f8}(0.0)  …  Gray{N0f8}(0.0)  Gray{N0f8}(0.0)\n",
       " Gray{N0f8}(0.0)  Gray{N0f8}(0.0)     Gray{N0f8}(0.0)  Gray{N0f8}(0.0)\n",
       " Gray{N0f8}(0.0)  Gray{N0f8}(0.0)     Gray{N0f8}(0.0)  Gray{N0f8}(0.0)"
      ]
     },
     "metadata": {},
     "output_type": "display_data"
    },
    {
     "data": {
      "text/plain": [
       "1"
      ]
     },
     "metadata": {},
     "output_type": "display_data"
    }
   ],
   "source": [
    "# run this before cell above\n",
    "display(Images.Gray.(train_x_18[8]))\n",
    "display(train_y_18[8])"
   ]
  },
  {
   "cell_type": "markdown",
   "id": "2db7a74a",
   "metadata": {},
   "source": [
    "After:"
   ]
  },
  {
   "cell_type": "code",
   "execution_count": 12,
   "id": "5a80dabe",
   "metadata": {},
   "outputs": [
    {
     "data": {
      "image/png": "[encoded data removed]",
      "text/plain": [
       "28×28 Array{Gray{N0f8},2} with eltype Gray{N0f8}:\n",
       " Gray{N0f8}(0.0)  Gray{N0f8}(0.0)  …  Gray{N0f8}(0.0)  Gray{N0f8}(0.0)\n",
       " Gray{N0f8}(0.0)  Gray{N0f8}(0.0)     Gray{N0f8}(0.0)  Gray{N0f8}(0.0)\n",
       " Gray{N0f8}(0.0)  Gray{N0f8}(0.0)     Gray{N0f8}(0.0)  Gray{N0f8}(0.0)\n",
       " Gray{N0f8}(0.0)  Gray{N0f8}(0.0)     Gray{N0f8}(0.0)  Gray{N0f8}(0.0)\n",
       " Gray{N0f8}(0.0)  Gray{N0f8}(0.0)     Gray{N0f8}(0.0)  Gray{N0f8}(0.0)\n",
       " Gray{N0f8}(0.0)  Gray{N0f8}(0.0)  …  Gray{N0f8}(0.0)  Gray{N0f8}(0.0)\n",
       " Gray{N0f8}(0.0)  Gray{N0f8}(0.0)     Gray{N0f8}(0.0)  Gray{N0f8}(0.0)\n",
       " Gray{N0f8}(0.0)  Gray{N0f8}(0.0)     Gray{N0f8}(0.0)  Gray{N0f8}(0.0)\n",
       " Gray{N0f8}(0.0)  Gray{N0f8}(0.0)     Gray{N0f8}(0.0)  Gray{N0f8}(0.0)\n",
       " Gray{N0f8}(0.0)  Gray{N0f8}(0.0)     Gray{N0f8}(0.0)  Gray{N0f8}(0.0)\n",
       " ⋮                                 ⋱                   \n",
       " Gray{N0f8}(0.0)  Gray{N0f8}(0.0)     Gray{N0f8}(0.0)  Gray{N0f8}(0.0)\n",
       " Gray{N0f8}(0.0)  Gray{N0f8}(0.0)  …  Gray{N0f8}(0.0)  Gray{N0f8}(0.0)\n",
       " Gray{N0f8}(0.0)  Gray{N0f8}(0.0)     Gray{N0f8}(0.0)  Gray{N0f8}(0.0)\n",
       " Gray{N0f8}(0.0)  Gray{N0f8}(0.0)     Gray{N0f8}(0.0)  Gray{N0f8}(0.0)\n",
       " Gray{N0f8}(0.0)  Gray{N0f8}(0.0)     Gray{N0f8}(0.0)  Gray{N0f8}(0.0)\n",
       " Gray{N0f8}(0.0)  Gray{N0f8}(0.0)     Gray{N0f8}(0.0)  Gray{N0f8}(0.0)\n",
       " Gray{N0f8}(0.0)  Gray{N0f8}(0.0)  …  Gray{N0f8}(0.0)  Gray{N0f8}(0.0)\n",
       " Gray{N0f8}(0.0)  Gray{N0f8}(0.0)     Gray{N0f8}(0.0)  Gray{N0f8}(0.0)\n",
       " Gray{N0f8}(0.0)  Gray{N0f8}(0.0)     Gray{N0f8}(0.0)  Gray{N0f8}(0.0)"
      ]
     },
     "metadata": {},
     "output_type": "display_data"
    },
    {
     "data": {
      "text/plain": [
       "1"
      ]
     },
     "metadata": {},
     "output_type": "display_data"
    }
   ],
   "source": [
    "display(Images.Gray.(train_x_18[8]))\n",
    "display(train_y_18[8])"
   ]
  },
  {
   "cell_type": "markdown",
   "id": "ffe17274",
   "metadata": {},
   "source": [
    "## Padding pattern feature creation"
   ]
  },
  {
   "cell_type": "code",
   "execution_count": 13,
   "id": "98a7c902",
   "metadata": {},
   "outputs": [],
   "source": [
    "all_patterns_2x2 = Dict{Matrix{N0f8}, Int64}([0.0 0.0; 0.0 0.0]=>0, [1.0 0.0; 0.0 0.0]=>0, [0.0 1.0; 0.0 0.0]=>0, \n",
    "                                          [0.0 0.0; 1.0 0.0]=>0, [0.0 0.0; 0.0 1.0]=>0, [1.0 1.0; 0.0 0.0]=>0, \n",
    "                                          [0.0 1.0; 1.0 0.0]=>0, [0.0 0.0; 1.0 1.0]=>0, [1.0 0.0; 1.0 0.0]=>0, \n",
    "                                          [0.0 1.0; 0.0 1.0]=>0, [1.0 1.0; 1.0 0.0]=>0, [0.0 1.0; 1.0 1.0]=>0, \n",
    "                                          [1.0 0.0; 1.0 1.0]=>0, [1.0 1.0; 0.0 1.0]=>0, [1.0 0.0; 0.0 1.0]=>0, \n",
    "                                          [1.0 1.0; 1.0 1.0]=>0);"
   ]
  },
  {
   "cell_type": "code",
   "execution_count": 15,
   "id": "0ee441da",
   "metadata": {},
   "outputs": [],
   "source": [
    "function feature_creation(nums, labels, all_patterns, skip_one=false)\n",
    "    \"\"\"\n",
    "    Converts MNIST pixel features and returns a set of new features based on counts of each pattern\n",
    "    :param nums         : Vector{Matrix{N0f8}};         original feature set\n",
    "    :param labels       : Vector{Int64};                original label set\n",
    "    :param all_patterns : Dict{Matrix{N0f8}, Int64};    keys are patterns based on the size of matrix mask and values being the counts of said patterns (set to 0)\n",
    "    :param skip_one     : Bool;                         if true: mask matrix skips over 1 column each iterations to avoid overlap, else: shifts by 1 column each iteration\n",
    "    :return             : Vector{Any};                  new feature matrix based on counts of pixel patterns described in \"all_patterns\"\n",
    "    \"\"\"\n",
    "    pat_len = length(all_patterns)                  # number of patterns\n",
    "    N, M = size(nums[1])                            # image dims\n",
    "    K = length(nums)                                # number of images\n",
    "    final_feature_matrix = []                       # the feature matrix we return\n",
    "    if skip_one\n",
    "        return\n",
    "    else\n",
    "        for i in 1:K\n",
    "            pattern_count = copy(all_patterns)      # refresh pattern count\n",
    "            curr_num = nums[i]                      # current feature to get patterns from\n",
    "            curr_label = labels[i]                  # label of current feature\n",
    "            for j in 0:(N-2)\n",
    "                for k in 0:(M-2)\n",
    "                    # perform counts on all available patterns in current number\n",
    "                    curr_pad = curr_num[1+j:2+j, 1+k:2+k] # extract 2x2 sub-matrix containing pixel pattern\n",
    "                    pattern_count[curr_pad] += 1          # \n",
    "                end\n",
    "            end\n",
    "            pattern_count_arr = [v for (k,v) in pattern_count]\n",
    "            push!(final_feature_matrix, (pattern_count_arr, curr_label))\n",
    "        end\n",
    "    end\n",
    "    return final_feature_matrix\n",
    "end;"
   ]
  },
  {
   "cell_type": "code",
   "execution_count": 16,
   "id": "54004516",
   "metadata": {},
   "outputs": [
    {
     "data": {
      "text/plain": [
       "5-element Vector{Any}:\n",
       " ([15, 2, 3, 0, 15, 2, 2, 3, 3, 0, 0, 22, 657, 3, 2, 0], 1)\n",
       " ([18, 0, 2, 0, 18, 1, 1, 1, 1, 2, 0, 19, 664, 2, 0, 0], 1)\n",
       " ([17, 11, 5, 7, 13, 6, 10, 10, 2, 9, 0, 68, 559, 9, 3, 0], 8)\n",
       " ([11, 11, 10, 10, 11, 10, 11, 11, 10, 10, 0, 44, 559, 11, 10, 0], 8)\n",
       " ([17, 1, 1, 1, 18, 0, 2, 2, 1, 2, 0, 21, 660, 3, 0, 0], 1)"
      ]
     },
     "metadata": {},
     "output_type": "display_data"
    }
   ],
   "source": [
    "training_set = feature_creation(train_x_18, train_y_18, all_patterns_2x2)\n",
    "test_set = feature_creation(test_x_18, test_y_18, all_patterns_2x2)\n",
    "# Lets have a preview of our new training set\n",
    "display(training_set[1:5])"
   ]
  },
  {
   "cell_type": "markdown",
   "id": "9717e70d",
   "metadata": {},
   "source": [
    "## Training SON "
   ]
  },
  {
   "cell_type": "code",
   "execution_count": 17,
   "id": "d3eefc3d",
   "metadata": {},
   "outputs": [],
   "source": [
    "train_set_len = length(training_set)\n",
    "X = [training_set[i][1] for i in 1:train_set_len]\n",
    "X = hcat(X...) # convert to 16x100 matrix\n",
    "y = [training_set[i][2] for i in 1:train_set_len];"
   ]
  },
  {
   "cell_type": "code",
   "execution_count": 100,
   "id": "d756cee5",
   "metadata": {},
   "outputs": [],
   "source": [
    "maxit = 50000\n",
    "lambda = 0.85\n",
    "weight = Base.ones(Float64, train_set_len) \n",
    "_, _, _, _, _, _, _, _, _, _,  _, clusterID, _, _, _ = ClusterTests.admm_Chi_Lange_wtest(X, lambda, weight, maxit); "
   ]
  },
  {
   "cell_type": "code",
   "execution_count": 101,
   "id": "8e19edc4",
   "metadata": {},
   "outputs": [
    {
     "data": {
      "text/plain": [
       "0.01980874316939891"
      ]
     },
     "metadata": {},
     "output_type": "display_data"
    }
   ],
   "source": [
    "compID = copy(y)\n",
    "compID[compID.==8] .= 2;\n",
    "\n",
    "Randind, inda, indb, indc, indd = DataGeneration.compute_randind(compID, clusterID);\n",
    "display(Randind)"
   ]
  },
  {
   "cell_type": "code",
   "execution_count": 103,
   "id": "03337134",
   "metadata": {},
   "outputs": [
    {
     "data": {
      "text/plain": [
       "0.8883168316831683"
      ]
     },
     "metadata": {},
     "output_type": "display_data"
    }
   ],
   "source": [
    "clusterID[clusterID.==0] .= 1\n",
    "clusterID[clusterID.>1].= 2\n",
    "\n",
    "Randind, inda, indb, indc, indd = DataGeneration.compute_randind(compID, clusterID);\n",
    "display(Randind)"
   ]
  },
  {
   "cell_type": "markdown",
   "id": "8a59684f",
   "metadata": {},
   "source": [
    "seems like it is properly clustering the 1's but fails to cluster the 8's"
   ]
  },
  {
   "cell_type": "markdown",
   "id": "445a3fcb",
   "metadata": {},
   "source": [
    "## Testing using kmeans"
   ]
  },
  {
   "cell_type": "code",
   "execution_count": 72,
   "id": "73687b7b",
   "metadata": {},
   "outputs": [
    {
     "name": "stdout",
     "output_type": "stream",
     "text": [
      "  Iters               objv        objv-change | affected \n",
      "-------------------------------------------------------------\n",
      "      0       1.561100e+05\n"
     ]
    },
    {
     "name": "stdout",
     "output_type": "stream",
     "text": [
      "      1       9.154631e+04      -6.456369e+04 |        2\n",
      "      2       9.146386e+04      -8.245410e+01 |        0\n",
      "      3       9.146386e+04       0.000000e+00 |        0\n",
      "K-means converged with 3 iterations (objv = 91463.85547972901)\n"
     ]
    },
    {
     "data": {
      "text/plain": [
       "KmeansResult{Matrix{Float64}, Float64, Int64}([13.471698113207546 11.319148936170214; 4.754716981132075 12.680851063829786; … ; 1.3962264150943395 7.0212765957446805; 0.09433962264150944 0.14893617021276595], [1, 1, 2, 2, 1, 1, 1, 1, 1, 2  …  2, 1, 1, 1, 2, 1, 1, 2, 1, 1], [485.33713065146003, 943.4126023496501, 372.3250339520164, 126.49524671805557, 672.0163759344723, 28.31826272699982, 1915.6390174439875, 589.865432538325, 173.9031683872454, 440.41014033497777  …  221.5590765052475, 252.16731933085248, 1483.865432538325, 518.1295834816992, 602.2399275691714, 600.8843004629016, 913.9409042363986, 199.98460842017084, 1517.2616589533864, 1279.2993948024232], [53, 47], [53, 47], 91463.85547972901, 3, true)"
      ]
     },
     "metadata": {},
     "output_type": "display_data"
    }
   ],
   "source": [
    "using Clustering\n",
    "\n",
    "R = Clustering.kmeans(X, 2; maxiter=1000, display=:iter)"
   ]
  },
  {
   "cell_type": "code",
   "execution_count": 83,
   "id": "60b9c7b9",
   "metadata": {},
   "outputs": [],
   "source": [
    "clusterID = assignments(R)\n",
    "compID = copy(y)\n",
    "compID[compID.==8] .= 2;"
   ]
  },
  {
   "cell_type": "code",
   "execution_count": 86,
   "id": "744eb80e",
   "metadata": {},
   "outputs": [
    {
     "data": {
      "text/plain": [
       "0.905940594059406"
      ]
     },
     "metadata": {},
     "output_type": "display_data"
    }
   ],
   "source": [
    "Randind, inda, indb, indc, indd = DataGeneration.compute_randind(compID, clusterID);\n",
    "display(Randind)"
   ]
  }
 ],
 "metadata": {
  "interpreter": {
   "hash": "767d51c1340bd893661ea55ea3124f6de3c7a262a8b4abca0554b478b1e2ff90"
  },
  "kernelspec": {
   "display_name": "Julia 1.6.1",
   "language": "julia",
   "name": "julia-1.6"
  },
  "language_info": {
   "file_extension": ".jl",
   "mimetype": "application/julia",
   "name": "julia",
   "version": "1.6.1"
  }
 },
 "nbformat": 4,
 "nbformat_minor": 5
}
